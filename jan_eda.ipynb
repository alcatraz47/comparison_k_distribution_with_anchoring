{
 "cells": [
  {
   "cell_type": "code",
   "execution_count": 1,
   "id": "be421953",
   "metadata": {},
   "outputs": [],
   "source": [
    "import pandas as pd\n",
    "import numpy as np\n",
    "import matplotlib.pyplot as plt\n",
    "import seaborn as sns\n",
    "from scipy.stats import shapiro, levene\n",
    "from statsmodels.formula.api import ols\n",
    "import statsmodels.api as sm\n",
    "from sklearn.utils import resample\n",
    "from scipy.stats import zscore"
   ]
  },
  {
   "cell_type": "code",
   "execution_count": 2,
   "id": "aa7d61e1",
   "metadata": {},
   "outputs": [],
   "source": [
    "df = pd.read_csv(\"data/Chandler.csv\")"
   ]
  },
  {
   "cell_type": "code",
   "execution_count": 3,
   "id": "ff64ee5f",
   "metadata": {},
   "outputs": [],
   "source": [
    "df_clean = df[df[\"DROP\"] == 0].copy()\n",
    "df_clean[\"Anchortype_num\"] = df_clean[\"Anchortype\"].map({\"round\": 0, \"precise\": 1})"
   ]
  },
  {
   "cell_type": "code",
   "execution_count": 4,
   "id": "cc04fdc5",
   "metadata": {},
   "outputs": [
    {
     "data": {
      "text/plain": [
       "DROP            0\n",
       "Participant     0\n",
       "Age             4\n",
       "Gender          0\n",
       "Year            0\n",
       "Anchortype      0\n",
       "magnitude       0\n",
       "Condition       0\n",
       "pen             8\n",
       "Proteindrink    0\n",
       "lebron          2\n",
       "slidy           0\n",
       "Cheese          0\n",
       "Figurine        0\n",
       "TV              0\n",
       "beachhouse      0\n",
       "number          0\n",
       "Notes           0\n",
       "dtype: int64"
      ]
     },
     "execution_count": 4,
     "metadata": {},
     "output_type": "execute_result"
    }
   ],
   "source": [
    "df.isna().sum()  # Check for missing values"
   ]
  },
  {
   "cell_type": "code",
   "execution_count": 5,
   "id": "a96d3aef",
   "metadata": {},
   "outputs": [],
   "source": [
    "anchors = {\n",
    "    \"pen\": {0: 4.000, 1: 3.998},\n",
    "    \"Proteindrink\": {0: 10.0, 1: 9.8},\n",
    "    \"lebron\": {0: 0.500, 1: 0.498},\n",
    "    \"slidy\": {0: 40.00, 1: 39.75},\n",
    "    \"Cheese\": {0: 5.00, 1: 4.85},\n",
    "    \"Figurine\": {0: 50.00, 1: 49.00},\n",
    "    \"TV\": {0: 5000.00, 1: 4998.00},\n",
    "    \"beachhouse\": {0: 800000.00, 1: 799800.00},\n",
    "    \"number\": {0: 10000, 1: 9989},\n",
    "}\n"
   ]
  },
  {
   "cell_type": "markdown",
   "id": "4af53f7c",
   "metadata": {},
   "source": [
    "Compute Z-scores"
   ]
  },
  {
   "cell_type": "code",
   "execution_count": 6,
   "id": "c1af5c28",
   "metadata": {},
   "outputs": [],
   "source": [
    "for item in anchors:\n",
    "    df_clean[item + \"_dev\"] = df_clean.apply(\n",
    "        lambda row: row[item] - anchors[item][row[\"Anchortype_num\"]], axis=1\n",
    "    )\n",
    "    df_clean[\"Z_\" + item] = zscore(df_clean[item + \"_dev\"])\n",
    "\n",
    "z_columns = [f\"Z_{item}\" for item in anchors]\n",
    "df_clean[\"Zmean\"] = df_clean[z_columns].mean(axis=1)\n"
   ]
  },
  {
   "cell_type": "code",
   "execution_count": 7,
   "id": "287ebd6e",
   "metadata": {},
   "outputs": [],
   "source": [
    "# ------------- Q4: Check Assumptions for ANOVA --------------------\n",
    "anova_model = ols(\"Zmean ~ C(Anchortype) * C(magnitude)\", data=df_clean).fit()\n",
    "anova_results = sm.stats.anova_lm(anova_model, typ=2)\n"
   ]
  },
  {
   "cell_type": "code",
   "execution_count": 8,
   "id": "4bd833a2",
   "metadata": {},
   "outputs": [
    {
     "data": {
      "text/html": [
       "<div>\n",
       "<style scoped>\n",
       "    .dataframe tbody tr th:only-of-type {\n",
       "        vertical-align: middle;\n",
       "    }\n",
       "\n",
       "    .dataframe tbody tr th {\n",
       "        vertical-align: top;\n",
       "    }\n",
       "\n",
       "    .dataframe thead th {\n",
       "        text-align: right;\n",
       "    }\n",
       "</style>\n",
       "<table border=\"1\" class=\"dataframe\">\n",
       "  <thead>\n",
       "    <tr style=\"text-align: right;\">\n",
       "      <th></th>\n",
       "      <th>sum_sq</th>\n",
       "      <th>df</th>\n",
       "      <th>F</th>\n",
       "      <th>PR(&gt;F)</th>\n",
       "    </tr>\n",
       "  </thead>\n",
       "  <tbody>\n",
       "    <tr>\n",
       "      <th>C(Anchortype)</th>\n",
       "      <td>1.452019</td>\n",
       "      <td>1.0</td>\n",
       "      <td>8.681717</td>\n",
       "      <td>3.885860e-03</td>\n",
       "    </tr>\n",
       "    <tr>\n",
       "      <th>C(magnitude)</th>\n",
       "      <td>10.985844</td>\n",
       "      <td>1.0</td>\n",
       "      <td>65.685074</td>\n",
       "      <td>6.046046e-13</td>\n",
       "    </tr>\n",
       "    <tr>\n",
       "      <th>C(Anchortype):C(magnitude)</th>\n",
       "      <td>0.005840</td>\n",
       "      <td>1.0</td>\n",
       "      <td>0.034920</td>\n",
       "      <td>8.520901e-01</td>\n",
       "    </tr>\n",
       "    <tr>\n",
       "      <th>Residual</th>\n",
       "      <td>19.401028</td>\n",
       "      <td>116.0</td>\n",
       "      <td>NaN</td>\n",
       "      <td>NaN</td>\n",
       "    </tr>\n",
       "  </tbody>\n",
       "</table>\n",
       "</div>"
      ],
      "text/plain": [
       "                               sum_sq     df          F        PR(>F)\n",
       "C(Anchortype)                1.452019    1.0   8.681717  3.885860e-03\n",
       "C(magnitude)                10.985844    1.0  65.685074  6.046046e-13\n",
       "C(Anchortype):C(magnitude)   0.005840    1.0   0.034920  8.520901e-01\n",
       "Residual                    19.401028  116.0        NaN           NaN"
      ]
     },
     "execution_count": 8,
     "metadata": {},
     "output_type": "execute_result"
    }
   ],
   "source": [
    "anova_results"
   ]
  },
  {
   "cell_type": "markdown",
   "id": "1a1e448b",
   "metadata": {},
   "source": [
    "Anova assumption test"
   ]
  },
  {
   "cell_type": "code",
   "execution_count": 9,
   "id": "e077e0d2",
   "metadata": {},
   "outputs": [
    {
     "data": {
      "text/plain": [
       "ShapiroResult(statistic=np.float64(0.9642105317381298), pvalue=np.float64(0.0027983589630667734))"
      ]
     },
     "execution_count": 9,
     "metadata": {},
     "output_type": "execute_result"
    }
   ],
   "source": [
    "# Normality\n",
    "shapiro_test = shapiro(anova_model.resid)\n",
    "\n",
    "shapiro_test"
   ]
  },
  {
   "cell_type": "code",
   "execution_count": 10,
   "id": "5c916c1b",
   "metadata": {},
   "outputs": [],
   "source": [
    "# Homogeneity of variances\n",
    "levene_test = levene(\n",
    "    df_clean[df_clean[\"Anchortype\"] == \"round\"][\"Zmean\"],\n",
    "    df_clean[df_clean[\"Anchortype\"] == \"precise\"][\"Zmean\"]\n",
    ")"
   ]
  },
  {
   "cell_type": "code",
   "execution_count": 11,
   "id": "25946636",
   "metadata": {},
   "outputs": [
    {
     "data": {
      "text/plain": [
       "LeveneResult(statistic=np.float64(1.321714957549475), pvalue=np.float64(0.25260928384468473))"
      ]
     },
     "execution_count": 11,
     "metadata": {},
     "output_type": "execute_result"
    }
   ],
   "source": [
    "levene_test"
   ]
  },
  {
   "cell_type": "markdown",
   "id": "6e684248",
   "metadata": {},
   "source": [
    "Eta squared"
   ]
  },
  {
   "cell_type": "code",
   "execution_count": 12,
   "id": "80a16446",
   "metadata": {},
   "outputs": [],
   "source": [
    "ss_total = sum(anova_results[\"sum_sq\"])\n",
    "anova_results[\"eta_sq\"] = anova_results[\"sum_sq\"] / ss_total"
   ]
  },
  {
   "cell_type": "code",
   "execution_count": 13,
   "id": "ae3c950d",
   "metadata": {},
   "outputs": [
    {
     "data": {
      "text/plain": [
       "C(Anchortype)                 0.045597\n",
       "C(magnitude)                  0.344982\n",
       "C(Anchortype):C(magnitude)    0.000183\n",
       "Residual                      0.609238\n",
       "Name: eta_sq, dtype: float64"
      ]
     },
     "execution_count": 13,
     "metadata": {},
     "output_type": "execute_result"
    }
   ],
   "source": [
    "anova_results[\"eta_sq\"]"
   ]
  },
  {
   "cell_type": "code",
   "execution_count": 14,
   "id": "42bbbff5",
   "metadata": {},
   "outputs": [
    {
     "data": {
      "image/png": "[encoded data removed]",
      "text/plain": [
       "<Figure size 1000x600 with 1 Axes>"
      ]
     },
     "metadata": {},
     "output_type": "display_data"
    }
   ],
   "source": [
    "plt.figure(figsize=(10, 6))\n",
    "sns.boxplot(data=df_clean, x=\"Anchortype\", y=\"Zmean\", hue=\"magnitude\")\n",
    "plt.title(\"Zmean by Anchor Precision and Motivation\")\n",
    "plt.xlabel(\"Anchor Type (Precision)\")\n",
    "plt.ylabel(\"Mean Standardized Deviation (Zmean)\")\n",
    "plt.legend(title=\"Motivation\")\n",
    "plt.tight_layout()\n",
    "plt.show()"
   ]
  },
  {
   "cell_type": "code",
   "execution_count": 15,
   "id": "b39115f8",
   "metadata": {},
   "outputs": [
    {
     "name": "stdout",
     "output_type": "stream",
     "text": [
      "ANOVA Results:\n",
      "                                sum_sq     df          F        PR(>F)  \\\n",
      "C(Anchortype)                1.452019    1.0   8.681717  3.885860e-03   \n",
      "C(magnitude)                10.985844    1.0  65.685074  6.046046e-13   \n",
      "C(Anchortype):C(magnitude)   0.005840    1.0   0.034920  8.520901e-01   \n",
      "Residual                    19.401028  116.0        NaN           NaN   \n",
      "\n",
      "                              eta_sq  \n",
      "C(Anchortype)               0.045597  \n",
      "C(magnitude)                0.344982  \n",
      "C(Anchortype):C(magnitude)  0.000183  \n",
      "Residual                    0.609238  \n",
      "\n",
      "Shapiro-Wilk Test (Normality):\n",
      " ShapiroResult(statistic=np.float64(0.9642105317381298), pvalue=np.float64(0.0027983589630667734))\n",
      "\n",
      "Levene’s Test (Homogeneity of Variance):\n",
      " LeveneResult(statistic=np.float64(1.321714957549475), pvalue=np.float64(0.25260928384468473))\n"
     ]
    }
   ],
   "source": [
    "print(\"ANOVA Results:\\n\", anova_results)\n",
    "print(\"\\nShapiro-Wilk Test (Normality):\\n\", shapiro_test)\n",
    "print(\"\\nLevene’s Test (Homogeneity of Variance):\\n\", levene_test)"
   ]
  },
  {
   "cell_type": "code",
   "execution_count": null,
   "id": "89f9c235",
   "metadata": {},
   "outputs": [],
   "source": []
  }
 ],
 "metadata": {
  "kernelspec": {
   "display_name": "ics",
   "language": "python",
   "name": "python3"
  },
  "language_info": {
   "codemirror_mode": {
    "name": "ipython",
    "version": 3
   },
   "file_extension": ".py",
   "mimetype": "text/x-python",
   "name": "python",
   "nbconvert_exporter": "python",
   "pygments_lexer": "ipython3",
   "version": "3.12.9"
  }
 },
 "nbformat": 4,
 "nbformat_minor": 5
}
