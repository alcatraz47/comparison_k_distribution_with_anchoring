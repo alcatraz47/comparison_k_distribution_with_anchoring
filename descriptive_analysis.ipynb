{
 "cells": [
  {
   "cell_type": "code",
   "execution_count": 9,
   "id": "20a22bb8",
   "metadata": {},
   "outputs": [],
   "source": [
    "import pandas as pd\n",
    "import numpy as np"
   ]
  },
  {
   "cell_type": "code",
   "execution_count": 3,
   "id": "3cdf5592",
   "metadata": {},
   "outputs": [],
   "source": [
    "# Load the dataset\n",
    "data = pd.read_csv('data/Chandler.csv')  # Adjust path if necessary"
   ]
  },
  {
   "cell_type": "code",
   "execution_count": 4,
   "id": "64b8c42b",
   "metadata": {},
   "outputs": [],
   "source": [
    "# Filter out rows marked for exclusion\n",
    "filtered_data = data[data['DROP'] == 0]"
   ]
  },
  {
   "cell_type": "code",
   "execution_count": 5,
   "id": "758eafe2",
   "metadata": {},
   "outputs": [],
   "source": [
    "# Descriptive statistics for Age\n",
    "age_stats = filtered_data['Age'].describe()"
   ]
  },
  {
   "cell_type": "code",
   "execution_count": 6,
   "id": "8f054878",
   "metadata": {},
   "outputs": [],
   "source": [
    "# Gender distribution\n",
    "gender_counts = filtered_data['Gender'].value_counts(dropna=False)"
   ]
  },
  {
   "cell_type": "code",
   "execution_count": 7,
   "id": "028e5767",
   "metadata": {},
   "outputs": [],
   "source": [
    "# Academic year distribution\n",
    "year_counts = filtered_data['Year'].value_counts(dropna=False)"
   ]
  },
  {
   "cell_type": "code",
   "execution_count": 8,
   "id": "0a88dbe8",
   "metadata": {},
   "outputs": [
    {
     "name": "stdout",
     "output_type": "stream",
     "text": [
      "Descriptive Statistics for Age:\n",
      "count    116.000000\n",
      "mean      19.715517\n",
      "std        1.140603\n",
      "min       17.000000\n",
      "25%       19.000000\n",
      "50%       20.000000\n",
      "75%       20.250000\n",
      "max       22.000000\n",
      "Name: Age, dtype: float64\n",
      "\n",
      "Gender Distribution:\n",
      "Gender\n",
      "f    74\n",
      "m    43\n",
      "x     3\n",
      "Name: count, dtype: int64\n",
      "\n",
      "Academic Year Distribution:\n",
      "Year\n",
      "soph     41\n",
      "frosh    41\n",
      "jr       26\n",
      "sr       11\n",
      "f         1\n",
      "Name: count, dtype: int64\n"
     ]
    }
   ],
   "source": [
    "# Display results\n",
    "print(\"Descriptive Statistics for Age:\")\n",
    "print(age_stats)\n",
    "print(\"\\nGender Distribution:\")\n",
    "print(gender_counts)\n",
    "print(\"\\nAcademic Year Distribution:\")\n",
    "print(year_counts)\n"
   ]
  },
  {
   "cell_type": "code",
   "execution_count": 11,
   "id": "8351aab3",
   "metadata": {},
   "outputs": [],
   "source": [
    "# Number of participants and number of items\n",
    "n_participants = filtered_data.shape[0]\n",
    "n_items = 9  # known from the study"
   ]
  },
  {
   "cell_type": "code",
   "execution_count": 12,
   "id": "8960cc22",
   "metadata": {},
   "outputs": [],
   "source": [
    "# Descriptive statistics for age\n",
    "mean_age = round(filtered_data['Age'].mean(), 1)\n",
    "std_age = round(filtered_data['Age'].std(), 1)\n",
    "min_age = int(filtered_data['Age'].min())\n",
    "max_age = int(filtered_data['Age'].max())"
   ]
  },
  {
   "cell_type": "code",
   "execution_count": 13,
   "id": "b1b1589d",
   "metadata": {},
   "outputs": [],
   "source": [
    "# Gender distribution and percentages\n",
    "gender_counts = filtered_data['Gender'].value_counts()\n",
    "gender_percents = round((gender_counts / n_participants) * 100, 1)"
   ]
  },
  {
   "cell_type": "code",
   "execution_count": 14,
   "id": "1e511190",
   "metadata": {},
   "outputs": [],
   "source": [
    "# Academic year distribution (only valid labels)\n",
    "valid_years = ['frosh', 'soph', 'jr', 'sr']\n",
    "year_counts = filtered_data['Year'].value_counts()\n",
    "year_filtered = year_counts.reindex(valid_years).fillna(0).astype(int)"
   ]
  },
  {
   "cell_type": "code",
   "execution_count": 15,
   "id": "c3a20bdd",
   "metadata": {},
   "outputs": [
    {
     "name": "stdout",
     "output_type": "stream",
     "text": [
      "The dataset comprises 120 participants retained after exclusion, each providing estimates for 9 items.\n",
      "Average age: 19.7 years (SD = 1.1), range: 17–22.\n",
      "\n",
      "Gender distribution:\n",
      "Female: 74 (61.7%)\n",
      "Male: 43 (35.8%)\n",
      "Unspecified: 3 (2.5%)\n",
      "\n",
      "Academic standing distribution:\n",
      "Freshmen: 41\n",
      "Sophomores: 0\n",
      "Juniors: 0\n",
      "Seniors: 0\n"
     ]
    }
   ],
   "source": [
    "# Print the final summary\n",
    "print(f\"The dataset comprises {n_participants} participants retained after exclusion, \"\n",
    "      f\"each providing estimates for {n_items} items.\")\n",
    "print(f\"Average age: {mean_age} years (SD = {std_age}), range: {min_age}–{max_age}.\")\n",
    "\n",
    "print(\"\\nGender distribution:\")\n",
    "for gender, count in gender_counts.items():\n",
    "    percent = gender_percents[gender]\n",
    "    label = {\"f\": \"Female\", \"m\": \"Male\", \"x\": \"Unspecified\"}.get(gender, gender)\n",
    "    print(f\"{label}: {count} ({percent}%)\")\n",
    "\n",
    "print(\"\\nAcademic standing distribution:\")\n",
    "for year, count in year_filtered.items():\n",
    "    label = {\"frosh\": \"Freshmen\", \"soph\": \"Sophomores\", \"jr\": \"Juniors\", \"sr\": \"Seniors\"}.get(year, year)\n",
    "    print(f\"{label}: {count}\")\n"
   ]
  },
  {
   "cell_type": "code",
   "execution_count": 17,
   "id": "be27f919",
   "metadata": {},
   "outputs": [
    {
     "data": {
      "image/png": "[encoded data removed]",
      "text/plain": [
       "<Figure size 800x500 with 1 Axes>"
      ]
     },
     "metadata": {},
     "output_type": "display_data"
    }
   ],
   "source": [
    "import pandas as pd\n",
    "import matplotlib.pyplot as plt\n",
    "\n",
    "# Load the dataset\n",
    "data = pd.read_csv('data/Chandler.csv')  # adjust the path if needed\n",
    "\n",
    "# Count retained and excluded participants\n",
    "drop_counts = data['DROP'].value_counts().sort_index()\n",
    "labels = ['Retained (DROP = 0)', 'Excluded (DROP = 1)']\n",
    "colors = ['skyblue', 'lightcoral']\n",
    "\n",
    "# Create bar plot\n",
    "plt.figure(figsize=(8, 5))\n",
    "bars = plt.bar(labels, drop_counts, color=colors)\n",
    "\n",
    "# Add count labels above bars\n",
    "for bar in bars:\n",
    "    yval = bar.get_height()\n",
    "    plt.text(bar.get_x() + bar.get_width()/2, yval + 2, int(yval), ha='center', fontsize=12)\n",
    "\n",
    "plt.ylabel(\"Number of Participants\")\n",
    "plt.title(\"Participants Retained vs. Excluded Based on DROP Indicator\")\n",
    "plt.tight_layout()\n",
    "plt.show()\n"
   ]
  },
  {
   "cell_type": "code",
   "execution_count": null,
   "id": "3c9c10aa",
   "metadata": {},
   "outputs": [],
   "source": []
  }
 ],
 "metadata": {
  "kernelspec": {
   "display_name": "ics",
   "language": "python",
   "name": "python3"
  },
  "language_info": {
   "codemirror_mode": {
    "name": "ipython",
    "version": 3
   },
   "file_extension": ".py",
   "mimetype": "text/x-python",
   "name": "python",
   "nbconvert_exporter": "python",
   "pygments_lexer": "ipython3",
   "version": "3.12.9"
  }
 },
 "nbformat": 4,
 "nbformat_minor": 5
}
