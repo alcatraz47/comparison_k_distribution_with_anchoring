{
 "cells": [
  {
   "cell_type": "code",
   "execution_count": 33,
   "id": "ce99cbdc",
   "metadata": {},
   "outputs": [],
   "source": [
    "# !pip install numpy pandas scikit-learn matplotlib seaborn scipy statsmodels"
   ]
  },
  {
   "cell_type": "code",
   "execution_count": 1,
   "id": "3e019da1",
   "metadata": {},
   "outputs": [],
   "source": [
    "import pandas as pd\n",
    "import numpy as np\n",
    "import matplotlib.pyplot as plt\n",
    "import seaborn as sns\n",
    "from scipy.stats import shapiro, levene\n",
    "from statsmodels.formula.api import ols\n",
    "import statsmodels.api as sm\n",
    "from sklearn.utils import resample"
   ]
  },
  {
   "cell_type": "markdown",
   "id": "adf11412",
   "metadata": {},
   "source": [
    "------------- Q1–2: Load and Prepare Data --------------------"
   ]
  },
  {
   "cell_type": "code",
   "execution_count": 2,
   "id": "88fa53f5",
   "metadata": {},
   "outputs": [],
   "source": [
    "df = pd.read_csv(\"data/Chandler.csv\")  # Load data\n",
    "df.dropna(inplace=True)  # Check for missing values\n",
    "df.reset_index(drop=True, inplace=True)  # Reset index"
   ]
  },
  {
   "cell_type": "code",
   "execution_count": 3,
   "id": "ce0904b8",
   "metadata": {},
   "outputs": [
    {
     "data": {
      "text/plain": [
       "DROP            0\n",
       "Participant     0\n",
       "Age             0\n",
       "Gender          0\n",
       "Year            0\n",
       "Anchortype      0\n",
       "magnitude       0\n",
       "Condition       0\n",
       "pen             0\n",
       "Proteindrink    0\n",
       "lebron          0\n",
       "slidy           0\n",
       "Cheese          0\n",
       "Figurine        0\n",
       "TV              0\n",
       "beachhouse      0\n",
       "number          0\n",
       "Notes           0\n",
       "dtype: int64"
      ]
     },
     "execution_count": 3,
     "metadata": {},
     "output_type": "execute_result"
    }
   ],
   "source": [
    "df.isna().sum()  # Check for missing values"
   ]
  },
  {
   "cell_type": "code",
   "execution_count": 4,
   "id": "35370390",
   "metadata": {},
   "outputs": [],
   "source": [
    "df['Anchortype_num'] = df['Anchortype'].map({'round': 0, 'precise': 1})  # Encode precision\n",
    "df_clean = df[df['DROP'] == 0].copy()  # Remove excluded participants"
   ]
  },
  {
   "cell_type": "markdown",
   "id": "818ba761",
   "metadata": {},
   "source": [
    "------------- Q3: Reconstruct Anchors from Janiszewski Materials -------------"
   ]
  },
  {
   "cell_type": "code",
   "execution_count": 5,
   "id": "a3569d8b",
   "metadata": {},
   "outputs": [],
   "source": [
    "anchor_values = {\n",
    "    'pen': {0: 4.000, 1: 3.998},\n",
    "    'Proteindrink': {0: 10.0, 1: 9.8},\n",
    "    'lebron': {0: 0.500, 1: 0.498},\n",
    "    'slidy': {0: 40.0, 1: 39.75},\n",
    "    'Cheese': {0: 5.0, 1: 4.85},\n",
    "    'Figurine': {0: 50.0, 1: 49.0},\n",
    "    'TV': {0: 5000.0, 1: 4998.0},\n",
    "    'beachhouse': {0: 800000.0, 1: 799800.0},\n",
    "    'number': {0: 10000.0, 1: 9989.0}\n",
    "}"
   ]
  },
  {
   "cell_type": "code",
   "execution_count": 6,
   "id": "37564db7",
   "metadata": {},
   "outputs": [],
   "source": [
    "# Calculate relative underestimation\n",
    "rel_diffs = []\n",
    "for item in anchor_values:\n",
    "    anchor_col = f'{item}_anchor'\n",
    "    df_clean[anchor_col] = df_clean['Anchortype_num'].map(anchor_values[item])\n",
    "    rel_diff = (df_clean[anchor_col] - df_clean[item]) / df_clean[anchor_col]\n",
    "    rel_diffs.append(rel_diff)\n",
    "\n",
    "# df_clean['mean_underestimation'] = np.nanmean(np.column_stack(rel_diffs), axis=1)\n",
    "df_clean['mean_underestimation'] = np.mean(np.column_stack(rel_diffs), axis=1)"
   ]
  },
  {
   "cell_type": "markdown",
   "id": "8ff9b90e",
   "metadata": {},
   "source": [
    "------------- Q4–5: Prepare Data for ANOVA and Check Assumptions -------------"
   ]
  },
  {
   "cell_type": "code",
   "execution_count": 7,
   "id": "36a41d7b",
   "metadata": {},
   "outputs": [],
   "source": [
    "anova_df = df_clean[\n",
    "    [\n",
    "        'Participant',\n",
    "        'mean_underestimation',\n",
    "        'Anchortype_num',\n",
    "        'magnitude'\n",
    "    ]\n",
    "].dropna()\n",
    "\n",
    "anova_df['Anchortype'] = anova_df['Anchortype_num'].map({0: 'Round', 1: 'Precise'})\n",
    "\n",
    "anova_df['Motivation'] = anova_df['magnitude'].map({0: 'Weak', 1: 'Strong'})"
   ]
  },
  {
   "cell_type": "code",
   "execution_count": 8,
   "id": "26246681",
   "metadata": {},
   "outputs": [],
   "source": [
    "# Shapiro–Wilk (normality)\n",
    "shapiro_results = anova_df.groupby(\n",
    "        ['Anchortype', 'Motivation']\n",
    "    )['mean_underestimation'].apply(\n",
    "    lambda x: shapiro(x)[1]).reset_index(name='Shapiro_p')"
   ]
  },
  {
   "cell_type": "code",
   "execution_count": 9,
   "id": "1ae082b1",
   "metadata": {},
   "outputs": [
    {
     "data": {
      "text/html": [
       "<div>\n",
       "<style scoped>\n",
       "    .dataframe tbody tr th:only-of-type {\n",
       "        vertical-align: middle;\n",
       "    }\n",
       "\n",
       "    .dataframe tbody tr th {\n",
       "        vertical-align: top;\n",
       "    }\n",
       "\n",
       "    .dataframe thead th {\n",
       "        text-align: right;\n",
       "    }\n",
       "</style>\n",
       "<table border=\"1\" class=\"dataframe\">\n",
       "  <thead>\n",
       "    <tr style=\"text-align: right;\">\n",
       "      <th></th>\n",
       "      <th>Anchortype</th>\n",
       "      <th>Motivation</th>\n",
       "      <th>Shapiro_p</th>\n",
       "    </tr>\n",
       "  </thead>\n",
       "  <tbody>\n",
       "    <tr>\n",
       "      <th>0</th>\n",
       "      <td>Precise</td>\n",
       "      <td>Strong</td>\n",
       "      <td>4.969372e-06</td>\n",
       "    </tr>\n",
       "    <tr>\n",
       "      <th>1</th>\n",
       "      <td>Precise</td>\n",
       "      <td>Weak</td>\n",
       "      <td>2.959953e-02</td>\n",
       "    </tr>\n",
       "    <tr>\n",
       "      <th>2</th>\n",
       "      <td>Round</td>\n",
       "      <td>Strong</td>\n",
       "      <td>6.015536e-11</td>\n",
       "    </tr>\n",
       "    <tr>\n",
       "      <th>3</th>\n",
       "      <td>Round</td>\n",
       "      <td>Weak</td>\n",
       "      <td>9.877863e-07</td>\n",
       "    </tr>\n",
       "  </tbody>\n",
       "</table>\n",
       "</div>"
      ],
      "text/plain": [
       "  Anchortype Motivation     Shapiro_p\n",
       "0    Precise     Strong  4.969372e-06\n",
       "1    Precise       Weak  2.959953e-02\n",
       "2      Round     Strong  6.015536e-11\n",
       "3      Round       Weak  9.877863e-07"
      ]
     },
     "execution_count": 9,
     "metadata": {},
     "output_type": "execute_result"
    }
   ],
   "source": [
    "shapiro_results"
   ]
  },
  {
   "cell_type": "code",
   "execution_count": 10,
   "id": "02612c89",
   "metadata": {},
   "outputs": [],
   "source": [
    "# Levene's test (homogeneity of variance)\n",
    "levene_stat, levene_p = levene(\n",
    "    *[group['mean_underestimation'].values for _, group in anova_df.groupby(['Anchortype', 'Motivation'])]\n",
    ")"
   ]
  },
  {
   "cell_type": "code",
   "execution_count": 11,
   "id": "4ae92431",
   "metadata": {},
   "outputs": [
    {
     "data": {
      "text/plain": [
       "np.float64(1.1184990544563833)"
      ]
     },
     "execution_count": 11,
     "metadata": {},
     "output_type": "execute_result"
    }
   ],
   "source": [
    "levene_stat"
   ]
  },
  {
   "cell_type": "code",
   "execution_count": 12,
   "id": "e6d88e07",
   "metadata": {},
   "outputs": [
    {
     "data": {
      "text/plain": [
       "np.float64(0.34510724942684956)"
      ]
     },
     "execution_count": 12,
     "metadata": {},
     "output_type": "execute_result"
    }
   ],
   "source": [
    "levene_p"
   ]
  },
  {
   "cell_type": "markdown",
   "id": "1b41b806",
   "metadata": {},
   "source": [
    "------------- Q6–7: Two-Way ANOVA and Effect Sizes -----------------"
   ]
  },
  {
   "cell_type": "code",
   "execution_count": 13,
   "id": "2e6aa468",
   "metadata": {},
   "outputs": [],
   "source": [
    "model = ols('mean_underestimation ~ C(Anchortype) * C(Motivation)', data=anova_df).fit()\n",
    "anova_table = sm.stats.anova_lm(model, typ=2)"
   ]
  },
  {
   "cell_type": "markdown",
   "id": "1a7c8043",
   "metadata": {},
   "source": [
    "Anova table after performing standard normalisation"
   ]
  },
  {
   "cell_type": "code",
   "execution_count": 14,
   "id": "e45e01e4",
   "metadata": {},
   "outputs": [
    {
     "data": {
      "text/html": [
       "<div>\n",
       "<style scoped>\n",
       "    .dataframe tbody tr th:only-of-type {\n",
       "        vertical-align: middle;\n",
       "    }\n",
       "\n",
       "    .dataframe tbody tr th {\n",
       "        vertical-align: top;\n",
       "    }\n",
       "\n",
       "    .dataframe thead th {\n",
       "        text-align: right;\n",
       "    }\n",
       "</style>\n",
       "<table border=\"1\" class=\"dataframe\">\n",
       "  <thead>\n",
       "    <tr style=\"text-align: right;\">\n",
       "      <th></th>\n",
       "      <th>sum_sq</th>\n",
       "      <th>df</th>\n",
       "      <th>F</th>\n",
       "      <th>PR(&gt;F)</th>\n",
       "    </tr>\n",
       "  </thead>\n",
       "  <tbody>\n",
       "    <tr>\n",
       "      <th>C(Anchortype)</th>\n",
       "      <td>0.820406</td>\n",
       "      <td>1.0</td>\n",
       "      <td>0.466572</td>\n",
       "      <td>0.496087</td>\n",
       "    </tr>\n",
       "    <tr>\n",
       "      <th>C(Motivation)</th>\n",
       "      <td>0.092634</td>\n",
       "      <td>1.0</td>\n",
       "      <td>0.052682</td>\n",
       "      <td>0.818911</td>\n",
       "    </tr>\n",
       "    <tr>\n",
       "      <th>C(Anchortype):C(Motivation)</th>\n",
       "      <td>1.254627</td>\n",
       "      <td>1.0</td>\n",
       "      <td>0.713517</td>\n",
       "      <td>0.400218</td>\n",
       "    </tr>\n",
       "    <tr>\n",
       "      <th>Residual</th>\n",
       "      <td>182.870475</td>\n",
       "      <td>104.0</td>\n",
       "      <td>NaN</td>\n",
       "      <td>NaN</td>\n",
       "    </tr>\n",
       "  </tbody>\n",
       "</table>\n",
       "</div>"
      ],
      "text/plain": [
       "                                 sum_sq     df         F    PR(>F)\n",
       "C(Anchortype)                  0.820406    1.0  0.466572  0.496087\n",
       "C(Motivation)                  0.092634    1.0  0.052682  0.818911\n",
       "C(Anchortype):C(Motivation)    1.254627    1.0  0.713517  0.400218\n",
       "Residual                     182.870475  104.0       NaN       NaN"
      ]
     },
     "execution_count": 14,
     "metadata": {},
     "output_type": "execute_result"
    }
   ],
   "source": [
    "anova_table"
   ]
  },
  {
   "cell_type": "code",
   "execution_count": 15,
   "id": "80dd7324",
   "metadata": {},
   "outputs": [],
   "source": [
    "eta_sq = anova_table['sum_sq'] / anova_table['sum_sq'].sum()  # eta squared = effect size"
   ]
  },
  {
   "cell_type": "code",
   "execution_count": 16,
   "id": "645e4cb4",
   "metadata": {},
   "outputs": [
    {
     "data": {
      "text/plain": [
       "C(Anchortype)                  0.004434\n",
       "C(Motivation)                  0.000501\n",
       "C(Anchortype):C(Motivation)    0.006780\n",
       "Residual                       0.988285\n",
       "Name: sum_sq, dtype: float64"
      ]
     },
     "execution_count": 16,
     "metadata": {},
     "output_type": "execute_result"
    }
   ],
   "source": [
    "eta_sq"
   ]
  },
  {
   "cell_type": "code",
   "execution_count": null,
   "id": "aca3be07",
   "metadata": {},
   "outputs": [],
   "source": []
  },
  {
   "cell_type": "code",
   "execution_count": null,
   "id": "b0b6cb6b",
   "metadata": {},
   "outputs": [],
   "source": []
  }
 ],
 "metadata": {
  "kernelspec": {
   "display_name": "ics",
   "language": "python",
   "name": "python3"
  },
  "language_info": {
   "codemirror_mode": {
    "name": "ipython",
    "version": 3
   },
   "file_extension": ".py",
   "mimetype": "text/x-python",
   "name": "python",
   "nbconvert_exporter": "python",
   "pygments_lexer": "ipython3",
   "version": "3.12.9"
  }
 },
 "nbformat": 4,
 "nbformat_minor": 5
}
